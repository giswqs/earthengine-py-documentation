{
 "cells": [
  {
   "cell_type": "markdown",
   "metadata": {},
   "source": [
    "<table class=\"ee-notebook-buttons\" align=\"left\">\n",
    "    <td><a target=\"_blank\"  href=\"https://github.com/giswqs/earthengine-py-notebooks/tree/master/Template/template.ipynb\"><img width=32px src=\"https://www.tensorflow.org/images/GitHub-Mark-32px.png\" /> View source on GitHub</a></td>\n",
    "    <td><a target=\"_blank\"  href=\"https://nbviewer.jupyter.org/github/giswqs/earthengine-py-notebooks/blob/master/Template/template.ipynb\"><img width=26px src=\"https://upload.wikimedia.org/wikipedia/commons/thumb/3/38/Jupyter_logo.svg/883px-Jupyter_logo.svg.png\" />Notebook Viewer</a></td>\n",
    "    <td><a target=\"_blank\"  href=\"https://mybinder.org/v2/gh/giswqs/earthengine-py-notebooks/master?filepath=Template/template.ipynb\"><img width=58px src=\"https://mybinder.org/static/images/logo_social.png\" />Run in binder</a></td>\n",
    "    <td><a target=\"_blank\"  href=\"https://colab.research.google.com/github/giswqs/earthengine-py-notebooks/blob/master/Template/template.ipynb\"><img src=\"https://www.tensorflow.org/images/colab_logo_32px.png\" /> Run in Google Colab</a></td>\n",
    "</table>"
   ]
  },
  {
   "cell_type": "markdown",
   "metadata": {},
   "source": [
    "# Image information and metadata\n",
    "To explore image bands and properties in Python, `print()` the image with the `getInfo()` function. This information can also be accessed programmatically. For example, the following demonstrates how to access information about bands, projections and other metadata:"
   ]
  },
  {
   "cell_type": "markdown",
   "metadata": {},
   "source": [
    "## Install Earth Engine API\n",
    "Install the [Earth Engine Python API](https://developers.google.com/earth-engine/python_install) and [geehydro](https://github.com/giswqs/geehydro). The **geehydro** Python package builds on the [folium](https://github.com/python-visualization/folium) package and implements several methods for displaying Earth Engine data layers, such as `Map.addLayer()`, `Map.setCenter()`, `Map.centerObject()`, and `Map.setOptions()`.\n",
    "The following script checks if the geehydro package has been installed. If not, it will install geehydro, which automatically install its dependencies, including earthengine-api and folium."
   ]
  },
  {
   "cell_type": "code",
   "execution_count": 1,
   "metadata": {},
   "outputs": [],
   "source": [
    "import subprocess\n",
    "\n",
    "try:\n",
    "    import geehydro\n",
    "except ImportError:\n",
    "    print('geehydro package not installed. Installing ...')\n",
    "    subprocess.check_call([\"python\", '-m', 'pip', 'install', 'geehydro'])\n",
    "\n",
    "# Import libraries    \n",
    "import ee\n",
    "import folium\n",
    "import geehydro\n",
    "\n",
    "# Authenticate and initialize Earth Engine API\n",
    "try:\n",
    "    ee.Initialize()\n",
    "except Exception as e:\n",
    "    ee.Authenticate()\n",
    "    ee.Initialize()"
   ]
  },
  {
   "cell_type": "markdown",
   "metadata": {},
   "source": [
    "## Create an interactive map \n",
    "This step creates an interactive map using [folium](https://github.com/python-visualization/folium). The default basemap is the OpenStreetMap. Additional basemaps can be added using the `Map.setOptions()` function. \n",
    "The optional basemaps can be `ROADMAP`, `SATELLITE`, `HYBRID`, `TERRAIN`, or `ESRI`."
   ]
  },
  {
   "cell_type": "code",
   "execution_count": 2,
   "metadata": {},
   "outputs": [],
   "source": [
    "Map = folium.Map(location=[40, -100], zoom_start=4)\n",
    "Map.setOptions('HYBRID')"
   ]
  },
  {
   "cell_type": "markdown",
   "metadata": {},
   "source": [
    "## Add Earth Engine Python script "
   ]
  },
  {
   "cell_type": "code",
   "execution_count": 3,
   "metadata": {},
   "outputs": [],
   "source": [
    "image = ee.Image('LANDSAT/LC8_L1T/LC80440342014077LGN00')\n",
    "Map.addLayer(image, {'bands': ['B5', 'B4', 'B3']}, 'Landsat image')\n",
    "Map.centerObject(image, 8)"
   ]
  },
  {
   "cell_type": "code",
   "execution_count": 4,
   "metadata": {},
   "outputs": [
    {
     "name": "stdout",
     "output_type": "stream",
     "text": [
      "Band names:  ['B1', 'B2', 'B3', 'B4', 'B5', 'B6', 'B7', 'B8', 'B9', 'B10', 'B11', 'BQA']\n"
     ]
    }
   ],
   "source": [
    "bandNames = image.bandNames()\n",
    "print('Band names: ', bandNames.getInfo()) # ee.List"
   ]
  },
  {
   "cell_type": "code",
   "execution_count": 5,
   "metadata": {},
   "outputs": [
    {
     "name": "stdout",
     "output_type": "stream",
     "text": [
      "Band 1 projection:  {'type': 'Projection', 'crs': 'EPSG:32610', 'transform': [30, 0, 460485, 0, -30, 4264515]}\n"
     ]
    }
   ],
   "source": [
    "b1proj = image.select('B1').projection()\n",
    "print('Band 1 projection: ', b1proj.getInfo()) # ee.Projection"
   ]
  },
  {
   "cell_type": "code",
   "execution_count": 6,
   "metadata": {},
   "outputs": [
    {
     "name": "stdout",
     "output_type": "stream",
     "text": [
      "Band 1 scale:  30\n"
     ]
    }
   ],
   "source": [
    "b1scale = image.select('B1').projection().nominalScale()\n",
    "print('Band 1 scale: ', b1scale.getInfo()) # ee.Number"
   ]
  },
  {
   "cell_type": "code",
   "execution_count": 7,
   "metadata": {},
   "outputs": [
    {
     "name": "stdout",
     "output_type": "stream",
     "text": [
      "Band 8 scale:  15\n"
     ]
    }
   ],
   "source": [
    "b8scale = image.select('B8').projection().nominalScale()\n",
    "print('Band 8 scale: ', b8scale.getInfo()) # ee.Number"
   ]
  },
  {
   "cell_type": "code",
   "execution_count": 8,
   "metadata": {},
   "outputs": [
    {
     "name": "stdout",
     "output_type": "stream",
     "text": [
      "Metadata properties:  ['RADIANCE_MULT_BAND_5', 'RADIANCE_MULT_BAND_6', 'RADIANCE_MULT_BAND_3', 'RADIANCE_MULT_BAND_4', 'RADIANCE_MULT_BAND_1', 'RADIANCE_MULT_BAND_2', 'system:id', 'K2_CONSTANT_BAND_11', 'K2_CONSTANT_BAND_10', 'system:footprint', 'REFLECTIVE_SAMPLES', 'SUN_AZIMUTH', 'CORNER_UL_PROJECTION_Y_PRODUCT', 'CPF_NAME', 'CORNER_LR_PROJECTION_Y_PRODUCT', 'DATE_ACQUIRED', 'ELLIPSOID', 'google:registration_offset_x', 'google:registration_offset_y', 'STATION_ID', 'RESAMPLING_OPTION', 'RADIANCE_MINIMUM_BAND_11', 'RADIANCE_MINIMUM_BAND_10', 'ORIENTATION', 'WRS_ROW', 'RADIANCE_MULT_BAND_9', 'TARGET_WRS_ROW', 'RADIANCE_MULT_BAND_7', 'RADIANCE_MULT_BAND_8', 'IMAGE_QUALITY_TIRS', 'QUANTIZE_CAL_MIN_BAND_9', 'QUANTIZE_CAL_MIN_BAND_8', 'QUANTIZE_CAL_MIN_BAND_7', 'QUANTIZE_CAL_MIN_BAND_6', 'QUANTIZE_CAL_MIN_BAND_5', 'CLOUD_COVER', 'QUANTIZE_CAL_MIN_BAND_4', 'QUANTIZE_CAL_MIN_BAND_3', 'QUANTIZE_CAL_MIN_BAND_2', 'QUANTIZE_CAL_MIN_BAND_1', 'GEOMETRIC_RMSE_VERIFY', 'CORNER_LL_LON_PRODUCT', 'CORNER_LR_LON_PRODUCT', 'GRID_CELL_SIZE_REFLECTIVE', 'RADIANCE_MAXIMUM_BAND_9', 'ORIGIN', 'RADIANCE_MAXIMUM_BAND_8', 'RADIANCE_MAXIMUM_BAND_7', 'RADIANCE_MAXIMUM_BAND_2', 'RADIANCE_MAXIMUM_BAND_1', 'RADIANCE_MAXIMUM_BAND_6', 'GEOMETRIC_RMSE_MODEL', 'RADIANCE_MAXIMUM_BAND_5', 'RADIANCE_MAXIMUM_BAND_4', 'RADIANCE_MAXIMUM_BAND_3', 'QUANTIZE_CAL_MAX_BAND_10', 'IMAGE_QUALITY_OLI', 'LANDSAT_SCENE_ID', 'WRS_PATH', 'google:registration_count', 'PANCHROMATIC_SAMPLES', 'PANCHROMATIC_LINES', 'REFLECTANCE_MAXIMUM_BAND_8', 'REFLECTANCE_MAXIMUM_BAND_9', 'RADIANCE_MAXIMUM_BAND_11', 'RADIANCE_MAXIMUM_BAND_10', 'CORNER_LL_LAT_PRODUCT', 'GEOMETRIC_RMSE_MODEL_Y', 'REFLECTIVE_LINES', 'GEOMETRIC_RMSE_MODEL_X', 'catalog_cloud_cover', 'system:asset_size', 'QUANTIZE_CAL_MAX_BAND_11', 'system:index', 'CORNER_LL_PROJECTION_Y_PRODUCT', 'CORNER_UL_LON_PRODUCT', 'REFLECTANCE_MAXIMUM_BAND_2', 'REFLECTANCE_MAXIMUM_BAND_3', 'CORNER_UR_LON_PRODUCT', 'REFLECTANCE_MAXIMUM_BAND_1', 'REFLECTANCE_MAXIMUM_BAND_6', 'REFLECTANCE_MAXIMUM_BAND_7', 'REFLECTANCE_MAXIMUM_BAND_4', 'REFLECTANCE_MAXIMUM_BAND_5', 'REFLECTANCE_ADD_BAND_1', 'REFLECTANCE_ADD_BAND_2', 'CORNER_LR_LAT_PRODUCT', 'DATUM', 'REFLECTANCE_ADD_BAND_3', 'REFLECTANCE_ADD_BAND_4', 'RLUT_FILE_NAME', 'REFLECTANCE_ADD_BAND_5', 'REFLECTANCE_ADD_BAND_6', 'REFLECTANCE_ADD_BAND_7', 'REFLECTANCE_ADD_BAND_8', 'BPF_NAME_TIRS', 'system:version', 'DATA_TYPE', 'UTM_ZONE', 'system:time_end', 'REFLECTANCE_ADD_BAND_9', 'google:registration_ratio', 'GRID_CELL_SIZE_PANCHROMATIC', 'google:cloud_storage_path', 'RADIANCE_ADD_BAND_4', 'REFLECTANCE_MULT_BAND_7', 'system:time_start', 'RADIANCE_ADD_BAND_5', 'REFLECTANCE_MULT_BAND_6', 'RADIANCE_ADD_BAND_6', 'REFLECTANCE_MULT_BAND_9', 'PROCESSING_SOFTWARE_VERSION', 'RADIANCE_ADD_BAND_7', 'REFLECTANCE_MULT_BAND_8', 'RADIANCE_ADD_BAND_1', 'RADIANCE_ADD_BAND_2', 'RADIANCE_ADD_BAND_3', 'CORNER_UR_PROJECTION_Y_PRODUCT', 'REFLECTANCE_MULT_BAND_1', 'RADIANCE_ADD_BAND_8', 'REFLECTANCE_MULT_BAND_3', 'RADIANCE_ADD_BAND_9', 'REFLECTANCE_MULT_BAND_2', 'REFLECTANCE_MULT_BAND_5', 'REFLECTANCE_MULT_BAND_4', 'THERMAL_LINES', 'QUANTIZE_CAL_MAX_BAND_7', 'QUANTIZE_CAL_MAX_BAND_6', 'GRID_CELL_SIZE_THERMAL', 'QUANTIZE_CAL_MAX_BAND_5', 'QUANTIZE_CAL_MAX_BAND_4', 'QUANTIZE_CAL_MAX_BAND_3', 'QUANTIZE_CAL_MAX_BAND_2', 'QUANTIZE_CAL_MAX_BAND_1', 'catalog_image_quality1', 'NADIR_OFFNADIR', 'RADIANCE_ADD_BAND_11', 'REFLECTANCE_MINIMUM_BAND_8', 'CORNER_UR_LAT_PRODUCT', 'REFLECTANCE_MINIMUM_BAND_9', 'REFLECTANCE_MINIMUM_BAND_6', 'CORNER_LL_PROJECTION_X_PRODUCT', 'REFLECTANCE_MINIMUM_BAND_7', 'REQUEST_ID', 'EARTH_SUN_DISTANCE', 'QUANTIZE_CAL_MAX_BAND_9', 'FILE_DATE', 'QUANTIZE_CAL_MAX_BAND_8', 'SCENE_CENTER_TIME', 'REFLECTANCE_MINIMUM_BAND_1', 'SUN_ELEVATION', 'BPF_NAME_OLI', 'CORNER_UL_PROJECTION_X_PRODUCT', 'RADIANCE_MINIMUM_BAND_4', 'REFLECTANCE_MINIMUM_BAND_4', 'RADIANCE_MINIMUM_BAND_3', 'REFLECTANCE_MINIMUM_BAND_5', 'RADIANCE_MINIMUM_BAND_2', 'REFLECTANCE_MINIMUM_BAND_2', 'RADIANCE_ADD_BAND_10', 'RADIANCE_MINIMUM_BAND_1', 'REFLECTANCE_MINIMUM_BAND_3', 'RADIANCE_MINIMUM_BAND_8', 'RADIANCE_MINIMUM_BAND_7', 'RADIANCE_MINIMUM_BAND_6', 'RADIANCE_MINIMUM_BAND_5', 'CORNER_UL_LAT_PRODUCT', 'ROLL_ANGLE', 'RADIANCE_MINIMUM_BAND_9', 'K1_CONSTANT_BAND_10', 'MAP_PROJECTION', 'SENSOR_ID', 'K1_CONSTANT_BAND_11', 'TARGET_WRS_PATH', 'RADIANCE_MULT_BAND_11', 'CORNER_LR_PROJECTION_X_PRODUCT', 'RADIANCE_MULT_BAND_10', 'GROUND_CONTROL_POINTS_MODEL', 'QUANTIZE_CAL_MIN_BAND_11', 'QUANTIZE_CAL_MIN_BAND_10', 'SPACECRAFT_ID', 'CORNER_UR_PROJECTION_X_PRODUCT', 'ELEVATION_SOURCE', 'THERMAL_SAMPLES', 'GROUND_CONTROL_POINTS_VERIFY', 'system:bands', 'system:band_names']\n"
     ]
    }
   ],
   "source": [
    "properties = image.propertyNames()\n",
    "print('Metadata properties: ', properties.getInfo()) # ee.List"
   ]
  },
  {
   "cell_type": "code",
   "execution_count": 9,
   "metadata": {},
   "outputs": [
    {
     "name": "stdout",
     "output_type": "stream",
     "text": [
      "CLOUD_COVER:  0.3400000035762787\n"
     ]
    }
   ],
   "source": [
    "cloudiness = image.get('CLOUD_COVER')\n",
    "print('CLOUD_COVER: ', cloudiness.getInfo()) # ee.Number"
   ]
  },
  {
   "cell_type": "code",
   "execution_count": 10,
   "metadata": {},
   "outputs": [
    {
     "name": "stdout",
     "output_type": "stream",
     "text": [
      "Timestamp:  {'type': 'Date', 'value': 1395168392055}\n"
     ]
    }
   ],
   "source": [
    "date = ee.Date(image.get('system:time_start'))\n",
    "print('Timestamp: ', date.getInfo()) # ee.Date"
   ]
  },
  {
   "cell_type": "code",
   "execution_count": 11,
   "metadata": {},
   "outputs": [
    {
     "name": "stdout",
     "output_type": "stream",
     "text": [
      "Timestamp:  2014-03-18\n"
     ]
    }
   ],
   "source": [
    "date2 = date.format('YYYY-MM-dd')\n",
    "print('Timestamp: ', date2.getInfo()) # ee.Date"
   ]
  },
  {
   "cell_type": "markdown",
   "metadata": {},
   "source": [
    "## Display Earth Engine data layers "
   ]
  },
  {
   "cell_type": "code",
   "execution_count": 12,
   "metadata": {},
   "outputs": [
    {
     "data": {
      "text/html": [
       "<div style=\"width:100%;\"><div style=\"position:relative;width:100%;height:0;padding-bottom:60%;\"><iframe src=\"data:text/html;charset=utf-8;base64,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\" style=\"position:absolute;width:100%;height:100%;left:0;top:0;border:none !important;\" allowfullscreen webkitallowfullscreen mozallowfullscreen></iframe></div></div>"
      ],
      "text/plain": [
       "<folium.folium.Map at 0x7f46144f0860>"
      ]
     },
     "execution_count": 12,
     "metadata": {},
     "output_type": "execute_result"
    }
   ],
   "source": [
    "Map.setControlVisibility(layerControl=True, fullscreenControl=True, latLngPopup=True)\n",
    "Map"
   ]
  }
 ],
 "metadata": {
  "anaconda-cloud": {},
  "kernelspec": {
   "display_name": "Python 3",
   "language": "python",
   "name": "python3"
  },
  "language_info": {
   "codemirror_mode": {
    "name": "ipython",
    "version": 3
   },
   "file_extension": ".py",
   "mimetype": "text/x-python",
   "name": "python",
   "nbconvert_exporter": "python",
   "pygments_lexer": "ipython3",
   "version": "3.7.3"
  }
 },
 "nbformat": 4,
 "nbformat_minor": 1
}
